{
 "cells": [
  {
   "cell_type": "code",
   "execution_count": 59,
   "metadata": {},
   "outputs": [
    {
     "name": "stdout",
     "output_type": "stream",
     "text": [
      "230  224  233  215  "
     ]
    }
   ],
   "source": [
    "#open the file\n",
    "with open('rosalind_dna.txt', 'r') as myfile:\n",
    "  data = myfile.read()\n",
    "# make a list of ACGT counts \n",
    "answer=[data.count('A'),data.count('C'),data.count('G'),data.count('T')]\n",
    "#print the list in a format requested by Rosalind \n",
    "for i in range(len(answer)):\n",
    "    print(answer[i],' ',end = '')\n",
    "# not elegant at all, but they gave me FIVE MINUTES. Too much pressure for newbies "
   ]
  },
  {
   "cell_type": "code",
   "execution_count": 54,
   "metadata": {},
   "outputs": [
    {
     "name": "stdout",
     "output_type": "stream",
     "text": [
      "230  224  232  215  "
     ]
    }
   ],
   "source": []
  },
  {
   "cell_type": "code",
   "execution_count": 31,
   "metadata": {},
   "outputs": [
    {
     "data": {
      "text/plain": [
       "'AGTCCAATCTCACTGGCGGGTTTCGCTTCTTCCTTGCTGGACGGGTATAAGTCCTGAGCCTGCTTCGCTGACCTAATTAGGCCGGCTGAGCCCACCGGCGGAACCACGCAGAAGACTTTGGTGCGTTACGGGTATAGAAGGATAATTTTATATGTGCTGGTCTGCCTCTAGGAAAGCTACATCAGACTTAACCTTTTATAAAGACCCAATAGCAGTTATCTTAGGTAAAGCTTGCCATATGTCCGTGTGAGTATCGGACATCCGTATCACCATTCTTCGACGGTGGGCACGTCGCGTTGTTATCAAGGATCTCTATCGTCTTCCATTCCGTGTTCGAGTGGCTGCGCGTAAGCCGAAAATAGCTTGGGTAAGGATTAACCCTTTCGGGATTATCCCTTAAGTGTATGCATCTAATCAGGCATGACAGTGACCAAAGTAGCATCATATGACATGTTAGCGACCGACGCAAAACTACAACGCGATGGGAATTTCCCTGGTGAATTTCACCTCAAATCCGAGTTTCCAGGCCAATGAAAGTTGCCGAGGGCAAGTTTGTGCGGACGGCCGTAGGATGAACGCACAGAAGGTAAGCTTTGACAATGGCTAACAGGTGCGCCCTACCACCCCTAACGAAAAGGAGGCGTACCAAGGTGGCGGCGACGCTGAGAAATTACCTCACGCCCAGCGATGGAGGCGTCGAGTGGGGACTGCGGTAACACGATCACTCATCTATCCATTCATACAGACTGCAGTACTTCTATCTATAAGGTTGGAAACGGTATCCCTCTGAATAGATATGCATCCGGGCCGACCGCTTGCCCCACGTCCGGAGAACAGTCGAGGTATCGAGACTCCCACCACCCATTACCTGGGAGGAAGGTTTGCAGTTGAGAACAACGGAG'"
      ]
     },
     "execution_count": 31,
     "metadata": {},
     "output_type": "execute_result"
    }
   ],
   "source": [
    "data"
   ]
  },
  {
   "cell_type": "code",
   "execution_count": 32,
   "metadata": {},
   "outputs": [],
   "source": [
    "answer=[data.count('A'),data.count('C'),data.count('G'),data.count('T')]\n"
   ]
  },
  {
   "cell_type": "code",
   "execution_count": 52,
   "metadata": {},
   "outputs": [
    {
     "name": "stdout",
     "output_type": "stream",
     "text": [
      "230  224  233  215  "
     ]
    }
   ],
   "source": [
    "for i in range(len(answer)):\n",
    "    print(answer[i],' ',end = '')"
   ]
  },
  {
   "cell_type": "code",
   "execution_count": null,
   "metadata": {},
   "outputs": [],
   "source": []
  }
 ],
 "metadata": {
  "kernelspec": {
   "display_name": "Python 3",
   "language": "python",
   "name": "python3"
  },
  "language_info": {
   "codemirror_mode": {
    "name": "ipython",
    "version": 3
   },
   "file_extension": ".py",
   "mimetype": "text/x-python",
   "name": "python",
   "nbconvert_exporter": "python",
   "pygments_lexer": "ipython3",
   "version": "3.7.1"
  }
 },
 "nbformat": 4,
 "nbformat_minor": 2
}
