{
 "cells": [
  {
   "cell_type": "code",
   "execution_count": 1,
   "metadata": {},
   "outputs": [],
   "source": [
    "with open(r'rosalind_subs.txt', 'r') as file:\n",
    "    data=file.readlines()\n",
    "#remove thos GODDAM NEWLINES! just kidding, I'm not annoyed    \n",
    "data=[line.rstrip() for line in data]"
   ]
  },
  {
   "cell_type": "code",
   "execution_count": 2,
   "metadata": {},
   "outputs": [
    {
     "data": {
      "text/plain": [
       "'TGAGCGTTG'"
      ]
     },
     "execution_count": 2,
     "metadata": {},
     "output_type": "execute_result"
    }
   ],
   "source": [
    "data\n",
    "target=data[0]\n",
    "bait=data[1]\n",
    "bait"
   ]
  },
  {
   "cell_type": "code",
   "execution_count": 3,
   "metadata": {},
   "outputs": [],
   "source": [
    "#here is some code if my input was a list of alternating target and bait. This would put target in one list and bait in the other\n",
    "#that would make it rather easy to apply the final function to them via maybe a zip function. \n",
    "target_list=[]\n",
    "bait_list=[]\n",
    "for i,n in enumerate(data):\n",
    "    if i==0 or i%2==0:\n",
    "        target_list.append(n)\n",
    "    else:\n",
    "        bait_list.append(n)\n",
    "    "
   ]
  },
  {
   "cell_type": "code",
   "execution_count": 4,
   "metadata": {},
   "outputs": [
    {
     "data": {
      "text/plain": [
       "19"
      ]
     },
     "execution_count": 4,
     "metadata": {},
     "output_type": "execute_result"
    }
   ],
   "source": [
    "import re\n",
    "occurences=re.findall(bait, target)\n",
    "\n",
    "len(occurences)"
   ]
  },
  {
   "cell_type": "code",
   "execution_count": 5,
   "metadata": {},
   "outputs": [
    {
     "data": {
      "text/plain": [
       "'CTGAGCGTTGAGCGTATTTGAGCGTGCGTTGCCACGTATGTGAGCGTTGAGCGTTGAGCGTGTTATCTGAGCGTAATGAGCGTTGAGCGTCGCCATTACTTTGAGCGTAAGGGCCTAGGAACTTGAGCGTTTGAGCGTGTGAGCGTTGAGCGTTGAGCGTCTGAGCGTTGAGCGTTGATAGAATTGAGCGTTTGTGTAGCTTTAGTTCCTTGAGCGTCGTGAGCGTCTGAGCGTTGGCGTGAGCGTAATGAGCGTCTTGTGAGCGTACTGAGCGTGGTGAGCGTGCTGAGCGTCTGAGCGTTGCGGCCAGCCTGAGCGTTGAGCGTAATGAGCGTTAACGCGACTGTGAGCGTGGACTTTGAGCGTAATGAGCGTGGTGCAGAATACTGAGCGTGATGAGCGTTGAGCGTTGAGCGTATGGTTGTAAGAACTTCTGAGCGTTAGTGAGCGTTAGGATGAGCGTTGAGCGTTCACGCATGAGCGTTGTCACAGGGTTGAGCGTTAGTGAGCGTCCCTTGAGCGTTGAGCGTCTTGAGCGTTATTGAGCGTTGAGCGTCGATGAGCGTGACGTGAGCGTGGCTGAGCGTATGCTTTTGAGCGTTGAGCGTTGTGAGCGTGGGCCTGAGCGTTGAGCGTCTGAGCGTCTAGTTTTGAGCGTTGAGCGTTTGAGCGTTGAGCGTTGAGCGTGCTTGAGCGTGTGAGCGTAGCATTGAGCGTAAACGCAACTGAGCGTTCTCACCCTTAGGTGAGCGTGTGAGCGTTCGAGTCCCGTGAGCGTTGAGCGTACCTGAGCGTTACACGACTTGAGCGTTATTGAGCGTTGAAGTGTGGCTGAGCGTA'"
      ]
     },
     "execution_count": 5,
     "metadata": {},
     "output_type": "execute_result"
    }
   ],
   "source": [
    "target.index(bait)+1 #+1 to account for the fact that python counts from 0 and DNA convention starts from 1\n",
    "\n",
    "target"
   ]
  },
  {
   "cell_type": "code",
   "execution_count": 6,
   "metadata": {},
   "outputs": [
    {
     "data": {
      "text/plain": [
       "19"
      ]
     },
     "execution_count": 6,
     "metadata": {},
     "output_type": "execute_result"
    }
   ],
   "source": [
    "#this regex moves in 'chunks' and doesn't detect overlapping matches\n",
    "locs=[m.start() for m in re.finditer(bait,target)]\n",
    "len(locs)"
   ]
  },
  {
   "cell_type": "code",
   "execution_count": 29,
   "metadata": {},
   "outputs": [
    {
     "data": {
      "text/plain": [
       "25"
      ]
     },
     "execution_count": 29,
     "metadata": {},
     "output_type": "execute_result"
    }
   ],
   "source": [
    "#using corrected code to detect all occurences \n",
    "locs=[m.start() for m in re.finditer('(?=%s)'%bait,target)]\n",
    "len(locs)"
   ]
  },
  {
   "cell_type": "code",
   "execution_count": 33,
   "metadata": {},
   "outputs": [
    {
     "data": {
      "text/plain": [
       "'1 40 47 76 139 146 161 168 227 294 312 396 403 456 477 516 542 594 601 622 651 666 673 771 814'"
      ]
     },
     "execution_count": 33,
     "metadata": {},
     "output_type": "execute_result"
    }
   ],
   "source": [
    "#lets print the answer in a neat fashion \n",
    "matches=''\n",
    "for i in  locs:\n",
    "    matches+=str(i)+' '\n",
    "matches\n",
    "\n",
    "#how about a list comprehension?\n",
    "matches2=[]\n",
    "[matches2.append(str(i)) for i in locs]\n",
    "' '.join(matches2)"
   ]
  },
  {
   "cell_type": "code",
   "execution_count": 16,
   "metadata": {},
   "outputs": [
    {
     "name": "stdout",
     "output_type": "stream",
     "text": [
      "Please enter name of file to be saved:matches\n"
     ]
    }
   ],
   "source": [
    "out_name=str(input('Please enter name of file to be saved:'))\n",
    "output=open(out_name+'.txt','w')\n",
    "output.write(matches)\n",
    "output.close()"
   ]
  },
  {
   "cell_type": "code",
   "execution_count": null,
   "metadata": {},
   "outputs": [],
   "source": []
  },
  {
   "cell_type": "code",
   "execution_count": null,
   "metadata": {},
   "outputs": [],
   "source": []
  }
 ],
 "metadata": {
  "kernelspec": {
   "display_name": "Python 3",
   "language": "python",
   "name": "python3"
  },
  "language_info": {
   "codemirror_mode": {
    "name": "ipython",
    "version": 3
   },
   "file_extension": ".py",
   "mimetype": "text/x-python",
   "name": "python",
   "nbconvert_exporter": "python",
   "pygments_lexer": "ipython3",
   "version": "3.7.1"
  }
 },
 "nbformat": 4,
 "nbformat_minor": 2
}
