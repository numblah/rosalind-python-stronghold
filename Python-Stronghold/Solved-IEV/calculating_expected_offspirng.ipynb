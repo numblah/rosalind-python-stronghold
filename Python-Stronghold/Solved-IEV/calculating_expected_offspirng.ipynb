{
 "cells": [
  {
   "cell_type": "code",
   "execution_count": 2,
   "metadata": {},
   "outputs": [
    {
     "data": {
      "text/plain": [
       "'18740 17475 17894 17811 16426 19678'"
      ]
     },
     "execution_count": 2,
     "metadata": {},
     "output_type": "execute_result"
    }
   ],
   "source": [
    "#find the expected number of offspring displaying the dominant genotype assuming that each pair will have two offspring\n",
    "with open(r'rosalind_iev.txt','r') as file:\n",
    "    data=file.read().rstrip('\\n')\n",
    "data\n",
    "# sample data='1 0 0 1 0 1' should give final answer of 3.5 if this is correct"
   ]
  },
  {
   "cell_type": "code",
   "execution_count": 3,
   "metadata": {},
   "outputs": [],
   "source": [
    "#load the population into a dictionary\n",
    "#split string into a list\n",
    "data=data.split(' ')\n",
    "#make a list of pair variants \n",
    "mating_pairs=['AA-AA','AA-Aa','AA-aa','Aa-Aa','Aa-aa','aa-aa']\n",
    "#make a dictionary  (empty) how likely is it to get a recessive pehnotype after mating\n",
    "gpc={0:0,1:0,2:0,3:0.25,4:1/2,5:1}\n",
    "#loop to populate the dictionary with the values from 'data' could not do a comprehension as the assignment operator cannot be used\n",
    "#Scratch that, I will use the dictionary for likelihoood modifiers (inserted by hand)\n",
    "# for i,n in enumerate(data):\n",
    "#     gpc[mating_pairs[i]]=n # this is a little bit bonkers, but will do"
   ]
  },
  {
   "cell_type": "code",
   "execution_count": 4,
   "metadata": {},
   "outputs": [
    {
     "data": {
      "text/plain": [
       "{0: 0, 1: 0, 2: 0, 3: 0.25, 4: 0.5, 5: 1}"
      ]
     },
     "execution_count": 4,
     "metadata": {},
     "output_type": "execute_result"
    }
   ],
   "source": [
    "gpc"
   ]
  },
  {
   "cell_type": "code",
   "execution_count": 5,
   "metadata": {},
   "outputs": [],
   "source": [
    "#TODO calculate the total population\n",
    "#calculate the possible number of recessive progeny for each mating\n",
    "#calculate the the most liekly number of recessive phenotype individuals\n",
    "#subtract from the total\n",
    "total=0\n",
    "for i in data:\n",
    "    total +=int(i)*2\n",
    "    "
   ]
  },
  {
   "cell_type": "code",
   "execution_count": 6,
   "metadata": {},
   "outputs": [],
   "source": [
    "#number of recessive  individuals\n",
    "#\n",
    "total_recessive=0\n",
    "for n,i in enumerate(data):\n",
    "    total_recessive +=int(i)*2*gpc[n]\n",
    "    "
   ]
  },
  {
   "cell_type": "code",
   "execution_count": 7,
   "metadata": {},
   "outputs": [
    {
     "data": {
      "text/plain": [
       "216048"
      ]
     },
     "execution_count": 7,
     "metadata": {},
     "output_type": "execute_result"
    }
   ],
   "source": [
    "total"
   ]
  },
  {
   "cell_type": "code",
   "execution_count": 8,
   "metadata": {},
   "outputs": [
    {
     "data": {
      "text/plain": [
       "64687.5"
      ]
     },
     "execution_count": 8,
     "metadata": {},
     "output_type": "execute_result"
    }
   ],
   "source": [
    "total_recessive"
   ]
  },
  {
   "cell_type": "code",
   "execution_count": 9,
   "metadata": {},
   "outputs": [],
   "source": [
    "total_expected_dominant=total-total_recessive"
   ]
  },
  {
   "cell_type": "code",
   "execution_count": 10,
   "metadata": {},
   "outputs": [
    {
     "name": "stdout",
     "output_type": "stream",
     "text": [
      "please enter save name: savefile\n"
     ]
    }
   ],
   "source": [
    "save_name=str(input('please enter save name: '))\n",
    "output=open(save_name+'.txt', 'w')\n",
    "output.write(str(total_expected_dominant))\n",
    "output.close()\n"
   ]
  },
  {
   "cell_type": "code",
   "execution_count": null,
   "metadata": {},
   "outputs": [],
   "source": []
  }
 ],
 "metadata": {
  "kernelspec": {
   "display_name": "Python 3",
   "language": "python",
   "name": "python3"
  },
  "language_info": {
   "codemirror_mode": {
    "name": "ipython",
    "version": 3
   },
   "file_extension": ".py",
   "mimetype": "text/x-python",
   "name": "python",
   "nbconvert_exporter": "python",
   "pygments_lexer": "ipython3",
   "version": "3.7.1"
  }
 },
 "nbformat": 4,
 "nbformat_minor": 2
}
