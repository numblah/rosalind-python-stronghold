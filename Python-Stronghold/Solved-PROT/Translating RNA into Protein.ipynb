{
 "cells": [
  {
   "cell_type": "code",
   "execution_count": 8,
   "metadata": {},
   "outputs": [],
   "source": [
    "#SYNOPSIS\n",
    "#To solve this I first read-in the file as I always do and stripped the newline character\n",
    "#I then generated 64 possible combinations of AGTC in groups of 3\n",
    "#the I had to manually put in the genetic code dictionary (this is experimentally derived, not logically only a godlike artificial intelligence would be able to deduce the genetic code from mathematics)\n",
    "# I then googled how to split a string into a list at intervals of 3 \n",
    "#found two methods that I liked, one using a list comprehension and the other one using a regex \n",
    "#I don't quite understand why those methods move in steps of three instead of moving one step and adding three letters to the list a.k.a why is it not overlapping?\n",
    "#once I had the list of target codons  I make a loop to create a string obtained by looping through the list of codons and putting them in as keys for the dictionary to obtain the appropriate amino acids\n"
   ]
  },
  {
   "cell_type": "code",
   "execution_count": 9,
   "metadata": {},
   "outputs": [
    {
     "data": {
      "text/plain": [
       "64"
      ]
     },
     "execution_count": 9,
     "metadata": {},
     "output_type": "execute_result"
    }
   ],
   "source": [
    "with open (r'rosalind_prot.txt','r') as file:\n",
    "    data=file.read().rstrip('\\n') \n",
    "data\n",
    "genetic_code={\n",
    " 'AAA':'K',\n",
    " 'AAG':'K',\n",
    " 'AAC':'N',\n",
    " 'AAU':'N',\n",
    " 'AGA':'R',\n",
    " 'AGG':'R',\n",
    " 'AGC':'S',\n",
    " 'AGU':'S',\n",
    " 'ACA':'T',\n",
    " 'ACG':'T',\n",
    " 'ACC':'T',\n",
    " 'ACU':'T',\n",
    " 'AUA':'I',\n",
    " 'AUG':'M',\n",
    " 'AUC':'I',\n",
    " 'AUU':'I',\n",
    " 'GAA':'E',\n",
    " 'GAG':'E',\n",
    " 'GAC':'D',\n",
    " 'GAU':'D',\n",
    " 'GGA':'G',\n",
    " 'GGG':'G',\n",
    " 'GGC':'G',\n",
    " 'GGU':'G',\n",
    " 'GCA':'A',\n",
    " 'GCG':'A',\n",
    " 'GCC':'A',\n",
    " 'GCU':'A',\n",
    " 'GUA':'V',\n",
    " 'GUG':'V',\n",
    " 'GUC':'V',\n",
    " 'GUU':'V',\n",
    " 'CAA':'Q',\n",
    " 'CAG':'Q',\n",
    " 'CAC':'H',\n",
    " 'CAU':'H',\n",
    " 'CGA':'R',\n",
    " 'CGG':'R',\n",
    " 'CGC':'R',\n",
    " 'CGU':'R',\n",
    " 'CCA':'P',\n",
    " 'CCG':'P',\n",
    " 'CCC':'P',\n",
    " 'CCU':'P',\n",
    " 'CUA':'L',\n",
    " 'CUG':'L',\n",
    " 'CUC':'L',\n",
    " 'CUU':'L',\n",
    " 'UAA':'*',\n",
    " 'UAG':'*',\n",
    " 'UAC':'Y',\n",
    " 'UAU':'Y',\n",
    " 'UGA':'*',\n",
    " 'UGG':'W',\n",
    " 'UGC':'C',\n",
    " 'UGU':'C',\n",
    " 'UCA':'S',\n",
    " 'UCG':'S',\n",
    " 'UCC':'S',\n",
    " 'UCU':'S',\n",
    " 'UUA':'L',\n",
    " 'UUG':'L',\n",
    " 'UUC':'F',\n",
    " 'UUU':'F'              }\n",
    "codon_list=[]\n",
    "#generate a list of codons (should be 64 :))\n",
    "for i in 'AGCU':\n",
    "    for n in 'AGCU':\n",
    "        for x in 'AGCU':\n",
    "            codon_list.append(i+n+x)\n",
    "len(codon_list)"
   ]
  },
  {
   "cell_type": "code",
   "execution_count": 1,
   "metadata": {},
   "outputs": [
    {
     "output_type": "error",
     "ename": "NameError",
     "evalue": "name 'data' is not defined",
     "traceback": [
      "\u001b[1;31m---------------------------------------------------------------------------\u001b[0m",
      "\u001b[1;31mNameError\u001b[0m                                 Traceback (most recent call last)",
      "\u001b[1;32m<ipython-input-1-79a0c46fd36d>\u001b[0m in \u001b[0;36m<module>\u001b[1;34m\u001b[0m\n\u001b[0;32m      1\u001b[0m \u001b[1;31m#Split the data string into a list of 3\u001b[0m\u001b[1;33m\u001b[0m\u001b[1;33m\u001b[0m\u001b[1;33m\u001b[0m\u001b[0m\n\u001b[0;32m      2\u001b[0m \u001b[0mn\u001b[0m\u001b[1;33m=\u001b[0m\u001b[1;36m3\u001b[0m\u001b[1;33m\u001b[0m\u001b[1;33m\u001b[0m\u001b[0m\n\u001b[1;32m----> 3\u001b[1;33m \u001b[0mprotein_RNA\u001b[0m\u001b[1;33m=\u001b[0m\u001b[1;33m[\u001b[0m\u001b[0mdata\u001b[0m\u001b[1;33m[\u001b[0m\u001b[0mi\u001b[0m\u001b[1;33m:\u001b[0m\u001b[0mi\u001b[0m\u001b[1;33m+\u001b[0m\u001b[0mn\u001b[0m\u001b[1;33m]\u001b[0m \u001b[1;32mfor\u001b[0m \u001b[0mi\u001b[0m \u001b[1;32min\u001b[0m \u001b[0mrange\u001b[0m\u001b[1;33m(\u001b[0m\u001b[1;36m0\u001b[0m\u001b[1;33m,\u001b[0m \u001b[0mlen\u001b[0m\u001b[1;33m(\u001b[0m\u001b[0mdata\u001b[0m\u001b[1;33m)\u001b[0m\u001b[1;33m,\u001b[0m\u001b[0mn\u001b[0m\u001b[1;33m)\u001b[0m\u001b[1;33m]\u001b[0m\u001b[1;33m\u001b[0m\u001b[1;33m\u001b[0m\u001b[0m\n\u001b[0m\u001b[0;32m      4\u001b[0m \u001b[0mprotein_RNA\u001b[0m\u001b[1;33m\u001b[0m\u001b[1;33m\u001b[0m\u001b[0m\n",
      "\u001b[1;31mNameError\u001b[0m: name 'data' is not defined"
     ]
    }
   ],
   "source": [
    "#Split the data string into a list of 3\n",
    "n=3\n",
    "protein_RNA=[data[i:i+n] for i in range(0, len(data),n)]\n",
    "protein_RNA"
   ]
  },
  {
   "cell_type": "code",
   "execution_count": 4,
   "metadata": {},
   "outputs": [
    {
     "output_type": "error",
     "ename": "NameError",
     "evalue": "name 'data' is not defined",
     "traceback": [
      "\u001b[1;31m---------------------------------------------------------------------------\u001b[0m",
      "\u001b[1;31mNameError\u001b[0m                                 Traceback (most recent call last)",
      "\u001b[1;32m<ipython-input-4-7aad91b69eff>\u001b[0m in \u001b[0;36m<module>\u001b[1;34m\u001b[0m\n\u001b[0;32m      1\u001b[0m \u001b[1;32mimport\u001b[0m \u001b[0mre\u001b[0m \u001b[1;31m#import regex\u001b[0m\u001b[1;33m\u001b[0m\u001b[1;33m\u001b[0m\u001b[0m\n\u001b[0;32m      2\u001b[0m \u001b[1;33m\u001b[0m\u001b[0m\n\u001b[1;32m----> 3\u001b[1;33m \u001b[0mprotein_codon_list\u001b[0m\u001b[1;33m=\u001b[0m\u001b[0mre\u001b[0m\u001b[1;33m.\u001b[0m\u001b[0mfindall\u001b[0m\u001b[1;33m(\u001b[0m\u001b[1;34m'...'\u001b[0m\u001b[1;33m,\u001b[0m\u001b[0mdata\u001b[0m\u001b[1;33m)\u001b[0m \u001b[1;31m#moves in 3s and finds all letters\u001b[0m\u001b[1;33m\u001b[0m\u001b[1;33m\u001b[0m\u001b[0m\n\u001b[0m",
      "\u001b[1;31mNameError\u001b[0m: name 'data' is not defined"
     ]
    }
   ],
   "source": [
    "import re #import regex\n",
    "\n",
    "protein_codon_list=re.findall('...',data) #moves in 3s and finds all letters "
   ]
  },
  {
   "cell_type": "code",
   "execution_count": 12,
   "metadata": {},
   "outputs": [],
   "source": [
    "protein=''\n",
    "for i in protein_codon_list:\n",
    "#     protein.append(genetic_code[i])\n",
    "      protein+=genetic_code[i]\n",
    " \n",
    "    "
   ]
  },
  {
   "cell_type": "code",
   "execution_count": 13,
   "metadata": {},
   "outputs": [
    {
     "data": {
      "text/plain": [
       "'MKSGALSTGTFRTTRFRRADDSNTKFGSVDPVNGDSIFPINVVTYQGQLHVIVWILAYGRPPACARGLLEILANARLLPRSMASLLLRQCTNPVFTLRETVLGELSFNRLPCKVARSTRGALHTWPFATRVVLANTTAANWAAKNRMSERTYQSMGCRGVVLLKTVHTVVMTGQAAFMSTFVANAHRGGDAYFRRFDGAETTPCLLPGRFHAPYIGWRQTRSGPGHYEQLRESEWEDLRSIELLARTGSRLVTSRVLLVVVLSVRRISSDSQMNEDKGAQCLRLCINSQKATMGSGRFSRSSVQEENSATVHWISLMKVRRLTLTTAGLRLHKFMFRNPCFIVLGRDEFNSKNPCLYHNMRHNYARKEQSKASASPLVEQNVRSILHRGLLFVIEWRGDVLFTANRRDPGRVVNISYSVKRTLCQFPCKANLKFKTETTRAERARGLCENTAHRSHLRQRCNFLCILNTSADRGDLCTLIGFGEPSRWDFDYGGAAQLPEKNGRCQEVSLDSTWVGEITPRGHRVTLLVRLATHRDVMAHISRSHKVLIAPVVDLTPIMYRCTGFFNVHTRLLTPLFRNIAFRPHGAVRVGRGSHPRRLVAFRIGRDELDEYGSSLCGWMYCVTVGKRVILPITLVVIGIIIPGVTYHYLRTECRTGWKQARRIRGCYLFCERRHSFRVWVVLTLIRRRPTPLGKGTEASSHYAIRSRRTTATQVFLRSILGYVLIYRGYANSSSSDESISFPTQGRIERVLRTTSAAVDIFDETNVRLHYPTGPDYYRYTSRTVISTNSVRISGWRGGMHRADCCTSRGPKAERRSLAPSFRARVAKPNRWLLGAGGETTICEGVLLVLVRLSVSHIKWTTSPQTERIRVEPGPGQSQPRTPKGPGSSQNSLGQTYHRPVRASHSRHARHGWWAYCGLRLLVRAGLSFLRLRSSKLISEGHRTTAEISVDQIGTHGLHIIHGQNVPLFYANSNMSELKMYSPNEKPRHTVPGDALDRPRWFATPSPTITFILCGYSVSSHPIIADQLETSSGFGGNLSRWRGSLNLAGYPPTQTYREFEWCEEEAKTPMALLIFRCPYFTILVGRFWWERHPRRLKINSINTVEVAAMLTAVHRDMSMLRSGPKEGLLPGNYKSYRTGDILAPIRDTPKDQSKAGWVSRISLLIQLSYFSYILQARRTLRVLLHDCETTPVSVQDNWSPSTMLVGYLPHARVTVPHLSFLVGVSCDRCGFRGTTVRSPLRSSQSNGFNCCLTLGGCQPNLAHLAPIHFCFGERREPQVPCSFTVRSVTLRYRHFFGPPQAVRWIFDVVGVSVIFVLGGGPVPRRERIFNGFERVALLGNSSSSATLENFDCIHWTCQKCRSYTHQHRKVNGFGLTCVTNPLLYKSYRLCQVHCASLGVVAKRPLFLYLARRTNRSSELRVGMDVDRLHRSHNMLCTMDSNRSTRRGAFLGHRSYPPEPLVNLLFSLSIRSVPVLINVYKLPVYDTRCDNYLPRLDKDNGLLGTYNRPEAIVDTDAQLQRSPLLPMGLSGTCLVIILPAIACSLLIQSRAIQEGSQGYCVSIMMTSSRLLRVVLGRSGTLSGARHCQFESTRADCASISGDICYLRPAKKSSLASQRNLGWRTFAGRKRTYVSAVQIHATTRVESTHSGGCDPSPPRGNDWGAIALILCIPLALETSIRLLKVSSEKGGRYEFLAFAMLDLTLFAVITKLKHHPILRTLLRNNAPKFPPGLYPRGTQPSIGRKIALRASTSESGFFFQNSQVDTLSYIRWGHLELFAMNIANESRALGGKWKVSSSCFCERIWILSLSRTPMYTQWSVDELIEGSNIDGRLSASTRVRKMHTSRNLVHCEKVMRCHKVGITPIQHAASLDVCESLLPSVICEPRSTEHATLLSTIDLAPLVRPHPGLSHGQVAKLCSEVPYLSIILTWLGKLSQESPSPLLGSEVISYDLTCPQPLRCCLRSKLKRRTGIAFRLIGTFRNFPVRQWTANSRSIVTVCVMGSLKRNAESAYIYYHRGLLDNNGAPQVCPRARRERQKSASTSLVSRNTRYVIVAEKHSKDSGHVHCSMYGLTRKLVNIVQVGRRLRLRHTILNDNPGMRMSLKGVISWRDIKITLKRSKLSYTSDGLLDTGIREAISILARPTQNRDTLKIIAGFGLFRFIGPPTIPTTRLINRFNRPRGLQLKSSVITEIRCSLFFEVRAFSKWLVDRLFLATVCWRRYRRTRCIPNPQFITRDATAARGKSGEEFACNIAAMAPSTLSETCRYISLITVRRLHRMDDVSARIDNPSTPSRKQINIDILEGNPGSIDALVRVLSPIRTHPRCKYSRPQVDETGYHIAGADPIRRSKVLGDVPAPIQVQSARCLLGPRLPTYKSLNWVLGWLMKQLHSWLSGLALRLSTCNLAPVMREVSSLPLASVSRITLSDISLRALWLPHQSEWPLLQQYASGAHHICRRRSRCDKHQEMNKPPNNITGCCARPLTDPARLREGYVVTPCFPKEHGLISASNPPCWRARRGRCLALGCHFPIPRRTNAVAGLGRDLSKSVLLSQRVPARIRCQYIRKLVTDWCERELPKTRSPSRRTKPPDRNRVSFPTTCDTPSIQWNPWDGMSCVITREPRSSGSNRRMVYLARSRHRLVVSVSNGIPGEHILTSMSMDSLEASPYKPLSRRLFSALKKEALHQCCVVSPIRKCGVEQYTGTGCRRLKPLYASKGSSRTTVNIEERPSVSTVQLKKNLLSVSIALRGWSRGYLHCFCPDQDQIERDGIRCLEVTLKTWRLQCLGTMREEYSDCPKVSVELGSRRQIVQRRAQSMRTRQADWLASSIALHIRQIRRHLSMDDRDPQLEKALVVLLVVEFGLLRPKESQHQFVTVLILTFRKLHALARAEERGSRNRGLTYGARLGKPGCTGHHPQQMKRVVSPTTPGGSEADSELLGKCGKLMLHTCRKTLGLLVRVQGAYEASSQALVGIKHPPHRFLGIRRGGVSPRGGFDLHFYDDDPRRLHPEDFNIQLLCLLPPIREPRLLARGVILLREPSSLQGSRSILTTFLTWTKGFEWLSPPLSDVPHPTALENISAQILFSLTEGVLLCQMFLCLASASHFELSCEKMDRCKAGLHPRYGSYIFNPRICFVLDPNTSRARTKCSKRVPVFGVGRSSTQ*'"
      ]
     },
     "execution_count": 13,
     "metadata": {},
     "output_type": "execute_result"
    }
   ],
   "source": [
    "protein"
   ]
  },
  {
   "cell_type": "code",
   "execution_count": 7,
   "metadata": {},
   "outputs": [
    {
     "data": {
      "text/plain": [
       "11"
      ]
     },
     "execution_count": 7,
     "metadata": {},
     "output_type": "execute_result"
    }
   ],
   "source": [
    "list_GG=re.findall('GG', protein)\n",
    "len(list_GG)"
   ]
  },
  {
   "cell_type": "code",
   "execution_count": 6,
   "metadata": {},
   "outputs": [],
   "source": [
    "import re\n",
    "x = 'askjgahiwhgiughiauwhguhawiughGGoijawoigjoaiwjogijawoijgoiGGjoijojoiwajoijoijGG'"
   ]
  },
  {
   "cell_type": "code",
   "execution_count": 7,
   "metadata": {},
   "outputs": [
    {
     "output_type": "execute_result",
     "data": {
      "text/plain": [
       "['GG', 'GG', 'GG']"
      ]
     },
     "metadata": {},
     "execution_count": 7
    }
   ],
   "source": [
    "re.findall ('GG' , x)"
   ]
  },
  {
   "cell_type": "code",
   "execution_count": null,
   "metadata": {},
   "outputs": [],
   "source": []
  }
 ],
 "metadata": {
  "kernelspec": {
   "display_name": "Python 3",
   "language": "python",
   "name": "python3"
  },
  "language_info": {
   "codemirror_mode": {
    "name": "ipython",
    "version": 3
   },
   "file_extension": ".py",
   "mimetype": "text/x-python",
   "name": "python",
   "nbconvert_exporter": "python",
   "pygments_lexer": "ipython3",
   "version": "3.7.6-final"
  }
 },
 "nbformat": 4,
 "nbformat_minor": 2
}