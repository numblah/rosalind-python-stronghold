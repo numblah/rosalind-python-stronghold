{
 "cells": [
  {
   "cell_type": "code",
   "execution_count": 85,
   "metadata": {},
   "outputs": [],
   "source": [
    "filename='rosalind_rna.txt'\n",
    "\n",
    "with open(filename, 'r') as myfile:\n",
    "    data= myfile.read() \n",
    "\n",
    "\n",
    "\n",
    "rna=''\n",
    "for i in data:\n",
    "    if i != 'T':\n",
    "        rna +=i\n",
    "    else:\n",
    "        rna +='U'"
   ]
  },
  {
   "cell_type": "code",
   "execution_count": 86,
   "metadata": {},
   "outputs": [
    {
     "data": {
      "text/plain": [
       "'UCGCUGAUAGGAAGGGAUCAGACAGGAUGGCAGCCGCGUCUACGUGGAAAUAUGUGCUAAGACCCGACAUUGGACAAGUUGUAAUAACUAAAUAGCCUUCUGCGCUACCAACCAUUUGACCUCCUCCUGAGGUAAUAGGUAACACCGUCCCUUCCAGAGGGACACGUGUUAGAGGCCACGCUAGAAAGUGAGUGUCUCCAUGAAACGACCACCGUGCCUUAGGUAGCACGUGGAUGCGUUUUAAAUUAUGUAAGUCCGAAAGAAGGCAUGCGUUGGCUCCUACACUAUUUACUUGGAAAUUCAAGGCUUUAAUUGGAGGCCGACGCUGAUCGAAGUACAAGCUAACGGUUCUGGUUUCCAGUUCCGACCAAGCAGCACAUAAAUCGAGUUUAUGUUCCAGCUAGUCCGACAUCCAUCUUAGUCACAUUCGGCCGAAGUAUUUGCAGCCACGUCAGAGCACUCUAGCUCGCACGCCGUCUCCCAAAAUGGGGCCAUAGGGUUGGAACAUGAUUGACGAGGCCCCAAGAUCUUAGCAAACAUCCAGAAGCCGACCCAUGUACAGAAUACAGGACCGGUACCUGGAGUGUCCUGCUUCCAAUCCACAACGGCAACCUGGAGUAAAGUAAAGGUGUAUGCCAACGGAGCCUCCAUAGUAUACGUAGUGGUACAAUCUGUGAAUGUGCAGUGUCUCGCGCUAAAUAAAGGCCUCUUUGGCGGUAUGUUAAACUUAGAAGGACGGCAACGGGUUGUAGUCGAUCUAAGAUACCCAGCGUGUUACCGACGAGAACUUCUCAAAUCGAGCUUCAACCAAGCGUUGCGAUCGUUCAACAGCUGUCUAGGGUGGACUCGGCCGUAGUGAGUGUCAAGACGAGCGGAAGGUUCUUUUUGGUCGUUAACUUGGACAACAAUGUUGUU\\n'"
      ]
     },
     "execution_count": 86,
     "metadata": {},
     "output_type": "execute_result"
    }
   ],
   "source": [
    "rna"
   ]
  },
  {
   "cell_type": "code",
   "execution_count": 91,
   "metadata": {},
   "outputs": [
    {
     "data": {
      "text/plain": [
       "'UCGCUGAUAGGAAGGGAUCAGACAGGAUGGCAGCCGCGUCUACGUGGAAAUAUGUGCUAAGACCCGACAUUGGACAAGUUGUAAUAACUAAAUAGCCUUCUGCGCUACCAACCAUUUGACCUCCUCCUGAGGUAAUAGGUAACACCGUCCCUUCCAGAGGGACACGUGUUAGAGGCCACGCUAGAAAGUGAGUGUCUCCAUGAAACGACCACCGUGCCUUAGGUAGCACGUGGAUGCGUUUUAAAUUAUGUAAGUCCGAAAGAAGGCAUGCGUUGGCUCCUACACUAUUUACUUGGAAAUUCAAGGCUUUAAUUGGAGGCCGACGCUGAUCGAAGUACAAGCUAACGGUUCUGGUUUCCAGUUCCGACCAAGCAGCACAUAAAUCGAGUUUAUGUUCCAGCUAGUCCGACAUCCAUCUUAGUCACAUUCGGCCGAAGUAUUUGCAGCCACGUCAGAGCACUCUAGCUCGCACGCCGUCUCCCAAAAUGGGGCCAUAGGGUUGGAACAUGAUUGACGAGGCCCCAAGAUCUUAGCAAACAUCCAGAAGCCGACCCAUGUACAGAAUACAGGACCGGUACCUGGAGUGUCCUGCUUCCAAUCCACAACGGCAACCUGGAGUAAAGUAAAGGUGUAUGCCAACGGAGCCUCCAUAGUAUACGUAGUGGUACAAUCUGUGAAUGUGCAGUGUCUCGCGCUAAAUAAAGGCCUCUUUGGCGGUAUGUUAAACUUAGAAGGACGGCAACGGGUUGUAGUCGAUCUAAGAUACCCAGCGUGUUACCGACGAGAACUUCUCAAAUCGAGCUUCAACCAAGCGUUGCGAUCGUUCAACAGCUGUCUAGGGUGGACUCGGCCGUAGUGAGUGUCAAGACGAGCGGAAGGUUCUUUUUGGUCGUUAACUUGGACAACAAUGUUGUU'"
      ]
     },
     "execution_count": 91,
     "metadata": {},
     "output_type": "execute_result"
    }
   ],
   "source": [
    "\n",
    "def DNA_RNA (data, filename):\n",
    "    with open(filename, 'r') as myfile:\n",
    "     data= myfile.read()\n",
    "    data=data[0:-1]\n",
    "    RNA_TRANSLATOR = {'A':'A', 'C':'C','T':'U','G':'G'}\n",
    "    rna=''.join(RNA_TRANSLATOR[base] for base in data)\n",
    "    return rna\n",
    "\n",
    "\n",
    "DNA_RNA(data, filename)\n",
    "\n",
    "# rna=[(base if 'GAC' else 'U')for base in data]\n",
    "# rna=[base if base !='T' else 'U' for data]\n",
    "# rna=['U' if 'T' else base for base in data if base=='GAC']\n",
    "# rna=[base for base in data if base in 'GAC' ]"
   ]
  },
  {
   "cell_type": "markdown",
   "metadata": {},
   "source": [
    "#### Their solution "
   ]
  },
  {
   "cell_type": "code",
   "execution_count": null,
   "metadata": {},
   "outputs": [],
   "source": [
    "dna = \"GATGGAACTTGACTACGTAAATT\"\n",
    "rna = dna.replace(\"T\", \"U\")"
   ]
  },
  {
   "cell_type": "code",
   "execution_count": null,
   "metadata": {},
   "outputs": [],
   "source": []
  }
 ],
 "metadata": {
  "kernelspec": {
   "display_name": "Python 3",
   "language": "python",
   "name": "python3"
  },
  "language_info": {
   "codemirror_mode": {
    "name": "ipython",
    "version": 3
   },
   "file_extension": ".py",
   "mimetype": "text/x-python",
   "name": "python",
   "nbconvert_exporter": "python",
   "pygments_lexer": "ipython3",
   "version": "3.6.5"
  }
 },
 "nbformat": 4,
 "nbformat_minor": 2
}
