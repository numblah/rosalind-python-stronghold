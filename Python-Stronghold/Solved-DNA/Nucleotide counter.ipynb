{
 "cells": [
  {
   "cell_type": "code",
   "execution_count": 1,
   "metadata": {},
   "outputs": [
    {
     "output_type": "error",
     "ename": "FileNotFoundError",
     "evalue": "[Errno 2] No such file or directory: 'rosalind_dna.txt'",
     "traceback": [
      "\u001b[1;31m---------------------------------------------------------------------------\u001b[0m",
      "\u001b[1;31mFileNotFoundError\u001b[0m                         Traceback (most recent call last)",
      "\u001b[1;32m<ipython-input-1-1ce8ccf08be3>\u001b[0m in \u001b[0;36m<module>\u001b[1;34m\u001b[0m\n\u001b[0;32m      1\u001b[0m \u001b[1;31m#open the file\u001b[0m\u001b[1;33m\u001b[0m\u001b[1;33m\u001b[0m\u001b[1;33m\u001b[0m\u001b[0m\n\u001b[1;32m----> 2\u001b[1;33m \u001b[1;32mwith\u001b[0m \u001b[0mopen\u001b[0m\u001b[1;33m(\u001b[0m\u001b[1;34m'rosalind_dna.txt'\u001b[0m\u001b[1;33m,\u001b[0m \u001b[1;34m'r'\u001b[0m\u001b[1;33m)\u001b[0m \u001b[1;32mas\u001b[0m \u001b[0mmyfile\u001b[0m\u001b[1;33m:\u001b[0m\u001b[1;33m\u001b[0m\u001b[1;33m\u001b[0m\u001b[0m\n\u001b[0m\u001b[0;32m      3\u001b[0m   \u001b[0mdata\u001b[0m \u001b[1;33m=\u001b[0m \u001b[0mmyfile\u001b[0m\u001b[1;33m.\u001b[0m\u001b[0mread\u001b[0m\u001b[1;33m(\u001b[0m\u001b[1;33m)\u001b[0m\u001b[1;33m\u001b[0m\u001b[1;33m\u001b[0m\u001b[0m\n\u001b[0;32m      4\u001b[0m \u001b[1;31m# make a list of ACGT counts\u001b[0m\u001b[1;33m\u001b[0m\u001b[1;33m\u001b[0m\u001b[1;33m\u001b[0m\u001b[0m\n\u001b[0;32m      5\u001b[0m \u001b[0manswer\u001b[0m\u001b[1;33m=\u001b[0m\u001b[1;33m[\u001b[0m\u001b[0mdata\u001b[0m\u001b[1;33m.\u001b[0m\u001b[0mcount\u001b[0m\u001b[1;33m(\u001b[0m\u001b[1;34m'A'\u001b[0m\u001b[1;33m)\u001b[0m\u001b[1;33m,\u001b[0m\u001b[0mdata\u001b[0m\u001b[1;33m.\u001b[0m\u001b[0mcount\u001b[0m\u001b[1;33m(\u001b[0m\u001b[1;34m'C'\u001b[0m\u001b[1;33m)\u001b[0m\u001b[1;33m,\u001b[0m\u001b[0mdata\u001b[0m\u001b[1;33m.\u001b[0m\u001b[0mcount\u001b[0m\u001b[1;33m(\u001b[0m\u001b[1;34m'G'\u001b[0m\u001b[1;33m)\u001b[0m\u001b[1;33m,\u001b[0m\u001b[0mdata\u001b[0m\u001b[1;33m.\u001b[0m\u001b[0mcount\u001b[0m\u001b[1;33m(\u001b[0m\u001b[1;34m'T'\u001b[0m\u001b[1;33m)\u001b[0m\u001b[1;33m]\u001b[0m\u001b[1;33m\u001b[0m\u001b[1;33m\u001b[0m\u001b[0m\n",
      "\u001b[1;31mFileNotFoundError\u001b[0m: [Errno 2] No such file or directory: 'rosalind_dna.txt'"
     ]
    }
   ],
   "source": [
    "#open the file\n",
    "with open('rosalind_dna.txt', 'r') as myfile:\n",
    "  data = myfile.read()\n",
    "# make a list of ACGT counts \n",
    "answer=[data.count('A'),data.count('C'),data.count('G'),data.count('T')]\n",
    "#print the list in a format requested by Rosalind \n",
    "for i in range(len(answer)):\n",
    "    print(answer[i],' ',end = '')\n",
    "# not elegant at all, but they gave me FIVE MINUTES. Too much pressure for newbies "
   ]
  },
  {
   "cell_type": "code",
   "execution_count": 54,
   "metadata": {},
   "outputs": [
    {
     "name": "stdout",
     "output_type": "stream",
     "text": [
      "230  224  232  215  "
     ]
    }
   ],
   "source": []
  },
  {
   "cell_type": "code",
   "execution_count": 31,
   "metadata": {},
   "outputs": [
    {
     "data": {
      "text/plain": [
       "'AGTCCAATCTCACTGGCGGGTTTCGCTTCTTCCTTGCTGGACGGGTATAAGTCCTGAGCCTGCTTCGCTGACCTAATTAGGCCGGCTGAGCCCACCGGCGGAACCACGCAGAAGACTTTGGTGCGTTACGGGTATAGAAGGATAATTTTATATGTGCTGGTCTGCCTCTAGGAAAGCTACATCAGACTTAACCTTTTATAAAGACCCAATAGCAGTTATCTTAGGTAAAGCTTGCCATATGTCCGTGTGAGTATCGGACATCCGTATCACCATTCTTCGACGGTGGGCACGTCGCGTTGTTATCAAGGATCTCTATCGTCTTCCATTCCGTGTTCGAGTGGCTGCGCGTAAGCCGAAAATAGCTTGGGTAAGGATTAACCCTTTCGGGATTATCCCTTAAGTGTATGCATCTAATCAGGCATGACAGTGACCAAAGTAGCATCATATGACATGTTAGCGACCGACGCAAAACTACAACGCGATGGGAATTTCCCTGGTGAATTTCACCTCAAATCCGAGTTTCCAGGCCAATGAAAGTTGCCGAGGGCAAGTTTGTGCGGACGGCCGTAGGATGAACGCACAGAAGGTAAGCTTTGACAATGGCTAACAGGTGCGCCCTACCACCCCTAACGAAAAGGAGGCGTACCAAGGTGGCGGCGACGCTGAGAAATTACCTCACGCCCAGCGATGGAGGCGTCGAGTGGGGACTGCGGTAACACGATCACTCATCTATCCATTCATACAGACTGCAGTACTTCTATCTATAAGGTTGGAAACGGTATCCCTCTGAATAGATATGCATCCGGGCCGACCGCTTGCCCCACGTCCGGAGAACAGTCGAGGTATCGAGACTCCCACCACCCATTACCTGGGAGGAAGGTTTGCAGTTGAGAACAACGGAG'"
      ]
     },
     "execution_count": 31,
     "metadata": {},
     "output_type": "execute_result"
    }
   ],
   "source": [
    "data"
   ]
  },
  {
   "cell_type": "code",
   "execution_count": 32,
   "metadata": {},
   "outputs": [],
   "source": [
    "answer=[data.count('A'),data.count('C'),data.count('G'),data.count('T')]\n"
   ]
  },
  {
   "cell_type": "code",
   "execution_count": 52,
   "metadata": {},
   "outputs": [
    {
     "name": "stdout",
     "output_type": "stream",
     "text": [
      "230  224  233  215  "
     ]
    }
   ],
   "source": [
    "for i in range(len(answer)):\n",
    "    print(answer[i],' ',end = '')"
   ]
  },
  {
   "cell_type": "code",
   "execution_count": null,
   "metadata": {},
   "outputs": [],
   "source": []
  }
 ],
 "metadata": {
  "kernelspec": {
   "display_name": "Python 3",
   "language": "python",
   "name": "python3"
  },
  "language_info": {
   "codemirror_mode": {
    "name": "ipython",
    "version": 3
   },
   "file_extension": ".py",
   "mimetype": "text/x-python",
   "name": "python",
   "nbconvert_exporter": "python",
   "pygments_lexer": "ipython3",
   "version": "3.7.6-final"
  }
 },
 "nbformat": 4,
 "nbformat_minor": 2
}