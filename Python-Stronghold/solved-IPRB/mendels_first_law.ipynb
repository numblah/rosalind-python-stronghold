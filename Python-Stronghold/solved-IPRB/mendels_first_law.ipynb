{
 "cells": [
  {
   "cell_type": "code",
   "execution_count": 26,
   "metadata": {},
   "outputs": [
    {
     "data": {
      "text/plain": [
       "0.7661384976525821"
      ]
     },
     "execution_count": 26,
     "metadata": {},
     "output_type": "execute_result"
    }
   ],
   "source": [
    "#calculate the chances of obtaining a dominant allele in first genereation progeny by sampling two random parents from the\n",
    "#following population \n",
    "#define the population\n",
    "HH=26\n",
    "Hh=22\n",
    "hh=24\n",
    "\n",
    "#define the mating parameters (chance to get a single H in a cross)\n",
    "HH_HH=1\n",
    "HH_Hh=1\n",
    "Hh_Hh=3/4\n",
    "HH_hh=1\n",
    "hh_hh=0\n",
    "Hh_hh=1/2\n",
    "#calculate the total population \n",
    "total=HH+Hh+hh\n",
    "#add up all the fractions \n",
    "# I could not wrap my head around making a loop for this\n",
    "probability=\\\n",
    "+HH/total*(HH-1)/(total-1)*HH_HH\\\n",
    "+HH/total*(Hh)/(total-1)*HH_Hh\\\n",
    "+HH/total*(hh)/(total-1)*HH_hh\\\n",
    "+Hh/total*(HH)/(total-1)*HH_Hh\\\n",
    "+Hh/total*(hh)/(total-1)*Hh_hh\\\n",
    "+Hh/total*(Hh-1)/(total-1)*Hh_Hh\\\n",
    "+hh/total*(hh-1)/(total-1)*hh_hh\\\n",
    "+hh/total*(HH)/(total-1)*HH_hh\\\n",
    "+hh/total*(Hh)/(total-1)*Hh_hh              \n",
    "                        \n",
    "  \n",
    "probability\n"
   ]
  },
  {
   "cell_type": "code",
   "execution_count": null,
   "metadata": {},
   "outputs": [],
   "source": [
    "\n",
    "        "
   ]
  },
  {
   "cell_type": "code",
   "execution_count": null,
   "metadata": {},
   "outputs": [],
   "source": []
  },
  {
   "cell_type": "code",
   "execution_count": null,
   "metadata": {},
   "outputs": [],
   "source": []
  }
 ],
 "metadata": {
  "kernelspec": {
   "display_name": "Python 3",
   "language": "python",
   "name": "python3"
  },
  "language_info": {
   "codemirror_mode": {
    "name": "ipython",
    "version": 3
   },
   "file_extension": ".py",
   "mimetype": "text/x-python",
   "name": "python",
   "nbconvert_exporter": "python",
   "pygments_lexer": "ipython3",
   "version": "3.6.5"
  }
 },
 "nbformat": 4,
 "nbformat_minor": 2
}
