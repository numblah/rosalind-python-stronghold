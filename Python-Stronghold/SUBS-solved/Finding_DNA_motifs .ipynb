{
 "cells": [
  {
   "cell_type": "code",
   "execution_count": 10,
   "metadata": {},
   "outputs": [],
   "source": [
    "#Summary. I had a problem with this one when submitting the answer\n",
    "#as I was writing it I knew that I need to adjust the index values with a +1\n",
    "#because python counts from 0 and for bioinfo we count from 1, like humans\n",
    "#I forgot to implement this in my final motif finder line of code\n",
    "#fixed it at the last step where I concatenate a string to stand as my asnwer\n",
    "\n",
    "\n",
    "with open(r'rosalind_subs.txt', 'r') as file:\n",
    "    data=file.readlines()\n",
    "#remove thos GODDAM NEWLINES! just kidding, I'm not annoyed    \n",
    "data=[line.rstrip() for line in data]"
   ]
  },
  {
   "cell_type": "code",
   "execution_count": 11,
   "metadata": {},
   "outputs": [
    {
     "data": {
      "text/plain": [
       "'TGGGTACTG'"
      ]
     },
     "execution_count": 11,
     "metadata": {},
     "output_type": "execute_result"
    }
   ],
   "source": [
    "data\n",
    "target=data[0]\n",
    "bait=data[1]\n",
    "bait"
   ]
  },
  {
   "cell_type": "code",
   "execution_count": 12,
   "metadata": {},
   "outputs": [],
   "source": [
    "#here is some code if my input was a list of alternating target and bait. This would put target in one list and bait in the other\n",
    "#that would make it rather easy to apply the final function to them via maybe a zip function. \n",
    "target_list=[]\n",
    "bait_list=[]\n",
    "for i,n in enumerate(data):\n",
    "    if i==0 or i%2==0:\n",
    "        target_list.append(n)\n",
    "    else:\n",
    "        bait_list.append(n)\n",
    "    "
   ]
  },
  {
   "cell_type": "code",
   "execution_count": 13,
   "metadata": {},
   "outputs": [
    {
     "data": {
      "text/plain": [
       "20"
      ]
     },
     "execution_count": 13,
     "metadata": {},
     "output_type": "execute_result"
    }
   ],
   "source": [
    "import re\n",
    "occurences=re.findall(bait, target)\n",
    "\n",
    "len(occurences)"
   ]
  },
  {
   "cell_type": "code",
   "execution_count": 21,
   "metadata": {},
   "outputs": [
    {
     "data": {
      "text/plain": [
       "'TAGCTGGGTACTGGGTACTTCTATTGAACTGCGTACCGCTAAAACTGGGTACCTGGGTACGAGCTGCATGTGACTTACAGTGGGTACTGTGGGTACATATTGGGTACCCACTGGGTACGTGGGTACTGGGTACTTGGGTACCCAATCAAACGGTGGGTACTGGGTACATGGGTACTTGAATTGGGTACGCTGGGTACCTGGGTACTGTGTGGGTACGTCTGGGTACATGTGGGTACGTGGGTACAACTCGCCTGGGTACTACATGTGGGTACTCCGCGTGGGTACCCACCCTGGGTACTAAATCCTGGGTACTTGGGTACTGGGTACTGGGTACGGATGGGTACTGGGTACTCACCTGGGTACCGAATGGGTACCGCAAGTGGGTACTGCGTGGGTACTGGGTACGGAAGGCGGTGGGTACCGTGGGTACTGGGTACGTGGGTACCAATGGGTACTTTGGGTACTGACTGGGTACAAGTGGGTACTGGGTACAAAATGAGAACTGGGTACACATGGGTACTGGGTACTGGGTACCGTTGGGTACTGGGTACGTGGGTACCTGGGTACAGGAAGAGGCCCAACGGTGGGTACTGGGTACGCTGGGTACATGGAGGATGGGTACGCTTCTGGGTACTGGGTACTGGGTACTTGGGTACTGGGTACGGGTGGGTACTGGGTACTGGGTACGAGGTGGGTACTCTGTATTCAACTCTGGGTACGCATCATGGGTACTATTCAGGTGGGTACTGGGTACAAACCTTGGGTACTCGCTGCTCCACTTTTTTGGGTACACTTTGGGTACTCACTTGGGTACTACTTCCCTCACTGGGTACACGAGTGGGTACAAATGGTTGGGTACTGGGTACAGTGTGGGTACCGATTGGGTACAT'"
      ]
     },
     "execution_count": 21,
     "metadata": {},
     "output_type": "execute_result"
    }
   ],
   "source": [
    "target.index(bait)+1 #+1 to account for the fact that python counts from 0 and DNA convention starts from 1\n",
    "\n",
    "target\n"
   ]
  },
  {
   "cell_type": "code",
   "execution_count": 15,
   "metadata": {},
   "outputs": [
    {
     "data": {
      "text/plain": [
       "20"
      ]
     },
     "execution_count": 15,
     "metadata": {},
     "output_type": "execute_result"
    }
   ],
   "source": [
    "#this regex moves in 'chunks' and doesn't detect overlapping matches\n",
    "locs=[m.start() for m in re.finditer(bait,target)]\n",
    "len(locs)"
   ]
  },
  {
   "cell_type": "code",
   "execution_count": 16,
   "metadata": {},
   "outputs": [
    {
     "data": {
      "text/plain": [
       "24"
      ]
     },
     "execution_count": 16,
     "metadata": {},
     "output_type": "execute_result"
    }
   ],
   "source": [
    "#using corrected code to detect all occurences \n",
    "locs=[m.start() for m in re.finditer('(?=%s)'%bait,target)]\n",
    "len(locs)"
   ]
  },
  {
   "cell_type": "code",
   "execution_count": 25,
   "metadata": {},
   "outputs": [
    {
     "data": {
      "text/plain": [
       "'5 81 120 154 199 314 321 338 381 392 424 458 479 514 521 538 585 628 635 650 667 674 741 853'"
      ]
     },
     "execution_count": 25,
     "metadata": {},
     "output_type": "execute_result"
    }
   ],
   "source": [
    "#lets print the answer in a neat fashion \n",
    "matches=''\n",
    "for i in  locs:\n",
    "    matches+=str(i+1)+' '\n",
    "matches\n",
    "\n",
    "#how about a list comprehension?\n",
    "matches2=[]\n",
    "[matches2.append(str(i+1)) for i in locs]\n",
    "' '.join(matches2)"
   ]
  },
  {
   "cell_type": "code",
   "execution_count": 18,
   "metadata": {},
   "outputs": [
    {
     "name": "stdout",
     "output_type": "stream",
     "text": [
      "Please enter name of file to be saved:match3\n"
     ]
    }
   ],
   "source": [
    "out_name=str(input('Please enter name of file to be saved:'))\n",
    "output=open(out_name+'.txt','w')\n",
    "output.write(matches)\n",
    "output.close()"
   ]
  },
  {
   "cell_type": "code",
   "execution_count": null,
   "metadata": {},
   "outputs": [],
   "source": [
    "4 80 119 153 198 313 320 337 380 391 423 457 478 513 520 537 584 627 634 649 666 673 740 852"
   ]
  },
  {
   "cell_type": "code",
   "execution_count": null,
   "metadata": {},
   "outputs": [],
   "source": []
  }
 ],
 "metadata": {
  "kernelspec": {
   "display_name": "Python 3",
   "language": "python",
   "name": "python3"
  },
  "language_info": {
   "codemirror_mode": {
    "name": "ipython",
    "version": 3
   },
   "file_extension": ".py",
   "mimetype": "text/x-python",
   "name": "python",
   "nbconvert_exporter": "python",
   "pygments_lexer": "ipython3",
   "version": "3.7.1"
  }
 },
 "nbformat": 4,
 "nbformat_minor": 2
}
