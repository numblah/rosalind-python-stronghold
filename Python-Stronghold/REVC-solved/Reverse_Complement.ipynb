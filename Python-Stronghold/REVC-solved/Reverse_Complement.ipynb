{
 "cells": [
  {
   "cell_type": "code",
   "execution_count": 57,
   "metadata": {},
   "outputs": [],
   "source": [
    "\n",
    "\n",
    "\n",
    "\n",
    "def rev_complement (filename):\n",
    "    # users  input is read here\n",
    "\n",
    "    #open the files \n",
    "    with open(filename, 'r') as myfile:\n",
    "        data = myfile.read().rstrip('\\n') # strip the \\n\n",
    "    # make a reverese complement dictionary\n",
    "    complement={'A':'T','T':'A','G':'C','C':'G'}\n",
    "    #reverse the sequence (could have done in the the list comprehension)\n",
    "    data_rev=data[::-1]\n",
    "    #create a new string by looping through the reverse string and\n",
    "    #picking the corresponding base using the disctionary\n",
    "    reverse_complement=''.join([complement[base] for base in data_rev])\n",
    "    #lastly, make a new file and save the output\n",
    "    output=open('reverse_complement.txt', 'w')\n",
    "    #as an extra I save it in FASTA format. \n",
    "    #output.write('>'+filename.rstrip('.txt')+'\\n'+reverse_complement)\n",
    "    output.write(reverse_complement)\n",
    "    output.close()\n",
    "filename='rosalind_revc (1).txt'\n",
    "rev_complement (filename)"
   ]
  },
  {
   "cell_type": "code",
   "execution_count": 47,
   "metadata": {},
   "outputs": [
    {
     "data": {
      "text/plain": [
       "'GCGCAATTAGTGAGGGTCTCACCTTCGCAACGGGTGGCATGCAAGTCTGTAATGTGGTACCTTCAGCAGAATCATCATGTCCGCGCTATGCGTTCGCTGAAATTGCCAACTAGTAGTACGTGCGCAACCGTCGGTATAGAACGACTTCTATCGATGCAGGGGAGCTGTAATCGCCACCCTCCGCGGCCAGGCCCATCGCAAGTCACCAGTTTGTTTCAGTTTTACACCAGGTGCATGTCAATGTTTGATGATAGGGGGAAGTAGCGGAGATCTCAGGCACACTACAGATTTTGCACGAAAGCGTTGATGCGGTGAGTTGGCCCCAAGTATTCGGTCAAGAGCATGGCGGGGAGATGCACTTGCCATGTTGTTTGTTCCCATGGTTAATACGTGATCTAGTTAAAAAGCCACCCATATTTGCATGGTGATCGCCTTCGAGAGTGACGTCACGGTCCGTAACTTTTTTTGATGGCGCGAACAAGGGGTTATTTGTTCAGTAGCTACAGTCATCTAGAGTAAGCGGTCTGTCGATTCGAGAGTCCGTGCGTCATTCAACAGAGGAGGAGACGGAGGATGGTGTCAACTTTAAATCTTGGATAGAATTTGAGCAACTGACCTTAAGATCTAGACAAATTTGGGCACCAACGAACGATCACCATGCGCTCATCCACCGTGATTGGAAGCTTCACTTCGACTTCCCGCTATGAGTTTACGCTAAGGCTTACCGGCTAACTTCTCGGTAAAGAAGGTGCGAACCGTCAACGATCATCACATTATTTGTCAAACGTCATAATTGGAAGATAATAGATTGGAAGGACCATCATACTACTCTAGGCCGAATACAACTGCGATCATGGAGTGTCTCCCCGTAAAACCCTTAATACCCCGCGAGAGACC'"
      ]
     },
     "execution_count": 47,
     "metadata": {},
     "output_type": "execute_result"
    }
   ],
   "source": [
    "data\n"
   ]
  },
  {
   "cell_type": "code",
   "execution_count": null,
   "metadata": {},
   "outputs": [],
   "source": []
  },
  {
   "cell_type": "code",
   "execution_count": null,
   "metadata": {},
   "outputs": [],
   "source": []
  }
 ],
 "metadata": {
  "kernelspec": {
   "display_name": "Python 3",
   "language": "python",
   "name": "python3"
  },
  "language_info": {
   "codemirror_mode": {
    "name": "ipython",
    "version": 3
   },
   "file_extension": ".py",
   "mimetype": "text/x-python",
   "name": "python",
   "nbconvert_exporter": "python",
   "pygments_lexer": "ipython3",
   "version": "3.6.5"
  }
 },
 "nbformat": 4,
 "nbformat_minor": 2
}
